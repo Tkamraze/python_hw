{
 "cells": [
  {
   "cell_type": "code",
   "execution_count": 1,
   "metadata": {
    "collapsed": false
   },
   "outputs": [
    {
     "name": "stdout",
     "output_type": "stream",
     "text": [
      "Здравствуй, дивный новый мир!\n"
     ]
    }
   ],
   "source": [
    "print 'Здравствуй, дивный новый мир!'"
   ]
  },
  {
   "cell_type": "markdown",
   "metadata": {},
   "source": [
    "Список задач, для последующей автоматизации:\n",
    "1. \n",
    "2.\n",
    "3.\n",
    "4."
   ]
  },
  {
   "cell_type": "code",
   "execution_count": 27,
   "metadata": {
    "collapsed": false
   },
   "outputs": [
    {
     "data": {
      "text/plain": [
       "97969.14166032098"
      ]
     },
     "execution_count": 27,
     "metadata": {},
     "output_type": "execute_result"
    }
   ],
   "source": [
    "200000*((1+(8./(100*12)))**(12*5))-200000"
   ]
  },
  {
   "cell_type": "code",
   "execution_count": 29,
   "metadata": {
    "collapsed": false
   },
   "outputs": [
    {
     "data": {
      "text/plain": [
       "97969.14"
      ]
     },
     "execution_count": 29,
     "metadata": {},
     "output_type": "execute_result"
    }
   ],
   "source": [
    "# Процентная ставка по банковскому вкладу составляет p = 8\\%, \n",
    "#капитализация происходит f = 12 раз в год. \n",
    "#Сумма вклада составляет S = 200000 рублей. \n",
    "#Рассчитайте в следующей ячейке прибыль по вкладу за L = 5 лет по следующей формуле:\n",
    "\n",
    "def discount():\n",
    "    S = 200000.\n",
    "    p = 8.\n",
    "    f = 12\n",
    "    L = 5\n",
    "    x = S*((1+(p/(100*f)))**(f*L))-S\n",
    "    return x\n",
    "print round(discount(), 2)"
   ]
  },
  {
   "cell_type": "code",
   "execution_count": 30,
   "metadata": {
    "collapsed": false
   },
   "outputs": [
    {
     "name": "stdout",
     "output_type": "stream",
     "text": [
      "93865.62\n"
     ]
    }
   ],
   "source": [
    "#капитализация происходит f = 1 раз в год. \n",
    "def discount():\n",
    "    S = 200000.\n",
    "    p = 8.\n",
    "    f = 1\n",
    "    L = 5\n",
    "    x = S*((1+(p/(100*f)))**(f*L))-S\n",
    "    return x\n",
    "print round(discount(), 2)"
   ]
  }
 ],
 "metadata": {
  "kernelspec": {
   "display_name": "Python 2",
   "language": "python",
   "name": "python2"
  },
  "language_info": {
   "codemirror_mode": {
    "name": "ipython",
    "version": 2
   },
   "file_extension": ".py",
   "mimetype": "text/x-python",
   "name": "python",
   "nbconvert_exporter": "python",
   "pygments_lexer": "ipython2",
   "version": "2.7.13"
  }
 },
 "nbformat": 4,
 "nbformat_minor": 2
}
